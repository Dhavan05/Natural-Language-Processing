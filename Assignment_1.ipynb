{
 "cells": [
  {
   "cell_type": "markdown",
   "id": "bc97d6da",
   "metadata": {
    "id": "bc97d6da"
   },
   "source": [
    "## CS 6120: Natural Language Processing - Prof. Ahmad Uzair\n",
    "\n",
    "### Assignment 1: Naive Bayes\n",
    "### Total Points: 100 points\n",
    "\n",
    "You will be dealing with movie review data that includes both positive and negative reviews in this assignment. You will use Sentiment Analysis to assess if a given review is positive or negative using the provided dataset.\n",
    "\n",
    "Therefore, we will make use of Naive Bayes algorithm to perform sentiment analysis on the movie review dataset.\n",
    "\n",
    "## Importing the Libraries"
   ]
  },
  {
   "cell_type": "code",
   "execution_count": 4,
   "id": "a03450ac",
   "metadata": {
    "id": "a03450ac"
   },
   "outputs": [],
   "source": [
    "import numpy as np\n",
    "import math\n",
    "import pandas as pd\n",
    "import re\n",
    "import nltk\n",
    "from nltk.corpus import stopwords\n",
    "from nltk.stem import PorterStemmer\n",
    "from nltk.tokenize import word_tokenize\n",
    "import warnings\n",
    "import seaborn as sns\n",
    "import matplotlib.pyplot as plt\n",
    "warnings.filterwarnings(\"ignore\")"
   ]
  },
  {
   "cell_type": "markdown",
   "id": "fc584cc2",
   "metadata": {
    "id": "fc584cc2"
   },
   "source": [
    "## Reading the data\n",
    "\n",
    "When reading the data, ensure that the '.csv' file is in the same location where your jupyter notebook is used. This way the files are organized and easy to read using the pandas library. "
   ]
  },
  {
   "cell_type": "code",
   "execution_count": 5,
   "id": "3c9ffbf5",
   "metadata": {
    "id": "3c9ffbf5"
   },
   "outputs": [],
   "source": [
    "## Reading the data and removing columns that are not important. \n",
    "df = pd.read_csv(\"movie_reviews.csv\", sep = ',', encoding = 'latin-1', usecols = lambda col: col not in [\"Unnamed: 2\", \"Unnamed: 3\", \"Unnamed: 4\"])"
   ]
  },
  {
   "cell_type": "code",
   "execution_count": 6,
   "id": "f7fa8ac0",
   "metadata": {
    "colab": {
     "base_uri": "https://localhost:8080/",
     "height": 206
    },
    "id": "f7fa8ac0",
    "outputId": "69edaf28-1e2e-4ec7-9530-b30a2853ab9e"
   },
   "outputs": [
    {
     "data": {
      "text/html": [
       "<div>\n",
       "<style scoped>\n",
       "    .dataframe tbody tr th:only-of-type {\n",
       "        vertical-align: middle;\n",
       "    }\n",
       "\n",
       "    .dataframe tbody tr th {\n",
       "        vertical-align: top;\n",
       "    }\n",
       "\n",
       "    .dataframe thead th {\n",
       "        text-align: right;\n",
       "    }\n",
       "</style>\n",
       "<table border=\"1\" class=\"dataframe\">\n",
       "  <thead>\n",
       "    <tr style=\"text-align: right;\">\n",
       "      <th></th>\n",
       "      <th>review</th>\n",
       "      <th>sentiment</th>\n",
       "    </tr>\n",
       "  </thead>\n",
       "  <tbody>\n",
       "    <tr>\n",
       "      <th>0</th>\n",
       "      <td>One of the other reviewers has mentioned that ...</td>\n",
       "      <td>positive</td>\n",
       "    </tr>\n",
       "    <tr>\n",
       "      <th>1</th>\n",
       "      <td>A wonderful little production. &lt;br /&gt;&lt;br /&gt;The...</td>\n",
       "      <td>positive</td>\n",
       "    </tr>\n",
       "    <tr>\n",
       "      <th>2</th>\n",
       "      <td>I thought this was a wonderful way to spend ti...</td>\n",
       "      <td>positive</td>\n",
       "    </tr>\n",
       "    <tr>\n",
       "      <th>3</th>\n",
       "      <td>Petter Mattei's \"Love in the Time of Money\" is...</td>\n",
       "      <td>positive</td>\n",
       "    </tr>\n",
       "    <tr>\n",
       "      <th>4</th>\n",
       "      <td>Probably my all-time favorite movie, a story o...</td>\n",
       "      <td>positive</td>\n",
       "    </tr>\n",
       "  </tbody>\n",
       "</table>\n",
       "</div>"
      ],
      "text/plain": [
       "                                              review sentiment\n",
       "0  One of the other reviewers has mentioned that ...  positive\n",
       "1  A wonderful little production. <br /><br />The...  positive\n",
       "2  I thought this was a wonderful way to spend ti...  positive\n",
       "3  Petter Mattei's \"Love in the Time of Money\" is...  positive\n",
       "4  Probably my all-time favorite movie, a story o...  positive"
      ]
     },
     "execution_count": 6,
     "metadata": {},
     "output_type": "execute_result"
    }
   ],
   "source": [
    "df.head()"
   ]
  },
  {
   "cell_type": "markdown",
   "id": "1749da04",
   "metadata": {
    "id": "1749da04"
   },
   "source": [
    "## Count plot of the output categories: positive or negative\n",
    "\n",
    "Feel free to take a look at the output and whether the classes are balanced or imbalanced. "
   ]
  },
  {
   "cell_type": "code",
   "execution_count": 7,
   "id": "c152e8a4",
   "metadata": {
    "colab": {
     "base_uri": "https://localhost:8080/",
     "height": 515
    },
    "id": "c152e8a4",
    "outputId": "a2ba0476-3238-4511-fcf0-780508493f48"
   },
   "outputs": [
    {
     "data": {
      "image/png": "[encoded data removed]",
      "text/plain": [
       "<Figure size 432x288 with 1 Axes>"
      ]
     },
     "metadata": {
      "needs_background": "light"
     },
     "output_type": "display_data"
    }
   ],
   "source": [
    "plt.figure(figsize = None)\n",
    "sns.countplot(x= \"sentiment\", data=df)\n",
    "plt.title(\"Positive Vs. Negative reviews count\", fontsize = 15)\n",
    "plt.show()\n"
   ]
  },
  {
   "cell_type": "markdown",
   "id": "9b8549f2",
   "metadata": {
    "id": "9b8549f2"
   },
   "source": [
    "## Upsampling the minority class: (5 points)\n",
    "\n",
    "It is known that Naive bayes is not robust to class imbalance. It could be seen above that the data is little imbalanced. Therefore, class balancing can be done before giving it to the Naive Bayes model for prediction. \n",
    "\n",
    "Feel free to use 'resample' library from sklearn. "
   ]
  },
  {
   "cell_type": "code",
   "execution_count": 8,
   "id": "yHJTAqrW7XMN",
   "metadata": {
    "id": "yHJTAqrW7XMN"
   },
   "outputs": [],
   "source": [
    "## hint: use resample from sklearn.utils\n",
    "from sklearn.utils import resample\n",
    "\n",
    "df_majority = df[df.sentiment == 'positive']\n",
    "df_minority = df[df.sentiment == 'negative']\n",
    "\n",
    "negative_upsample = resample(df_minority, replace = True, \n",
    "                        n_samples = df_majority.shape[0],\n",
    "                        random_state = 101)\n",
    "\n",
    "df_upsampled = pd.concat([df_majority, negative_upsample])  # concat two data frames i,e majority class data set and upsampled minority class data set\n",
    "df_upsampled = df_upsampled.sample(frac = 1)"
   ]
  },
  {
   "cell_type": "code",
   "execution_count": 9,
   "id": "6a9329bb",
   "metadata": {
    "id": "6a9329bb"
   },
   "outputs": [
    {
     "name": "stdout",
     "output_type": "stream",
     "text": [
      "(12474, 2)\n"
     ]
    }
   ],
   "source": [
    "## Just to ensure that upsampling was done successfully, take a look at the shape of the data in \n",
    "## this cell. \n",
    "\n",
    "# print the shape of data set with the help of shape function having \"negative\" as class label\n",
    "print(df_upsampled[df_upsampled.sentiment == 'negative'].shape)"
   ]
  },
  {
   "cell_type": "markdown",
   "id": "6f8bf6e7",
   "metadata": {
    "id": "6f8bf6e7"
   },
   "source": [
    "### Expected Output : \n",
    "(12474, 2)"
   ]
  },
  {
   "cell_type": "code",
   "execution_count": 10,
   "id": "bdea8155",
   "metadata": {
    "colab": {
     "base_uri": "https://localhost:8080/"
    },
    "id": "bdea8155",
    "outputId": "c665c4b9-826e-4f4e-e30e-06e0935a0622"
   },
   "outputs": [
    {
     "name": "stdout",
     "output_type": "stream",
     "text": [
      "(12474, 2)\n"
     ]
    }
   ],
   "source": [
    "## Ensure that the same number of data points are present for both 'positive' and 'negative' data\n",
    "\n",
    "# print the shape of data set with the help of shape function having \"positive\" as class label\n",
    "print(df_upsampled[df_upsampled.sentiment == 'positive'].shape)"
   ]
  },
  {
   "cell_type": "markdown",
   "id": "626f01d5",
   "metadata": {
    "id": "626f01d5"
   },
   "source": [
    "### Expected Output : \n",
    "(12474, 2)"
   ]
  },
  {
   "cell_type": "code",
   "execution_count": 11,
   "id": "NoW5z6SzAeP8",
   "metadata": {
    "id": "NoW5z6SzAeP8"
   },
   "outputs": [],
   "source": [
    "## In this cell, we are going to be dividing the data into train and test points\n",
    "## Ensure that you store the upsampled data in a variable called 'df_upsampled' \n",
    "## so that the below operations are performed successfully\n",
    "\n",
    "\n",
    "## Considering 10000 positive and 10000 negative data points\n",
    "negative_data_points_train = df_upsampled[df_upsampled.sentiment == 'negative'].iloc[:10000]\n",
    "positive_data_points_train = df_upsampled[df_upsampled.sentiment == 'positive'].iloc[:10000]\n",
    "\n",
    "## Considering the remaining data points for test\n",
    "negative_data_points_test = df_upsampled[df_upsampled.sentiment == 'negative'].iloc[10000:]\n",
    "positive_data_points_test = df_upsampled[df_upsampled.sentiment == 'positive'].iloc[10000:]\n",
    "\n",
    "## Concatenate the training positive and negative reviews\n",
    "X_train = pd.concat([negative_data_points_train[\"review\"], positive_data_points_train[\"review\"]])\n",
    "## Concatenating the training positive and negative outputs\n",
    "y_train = pd.concat([negative_data_points_train[\"sentiment\"], positive_data_points_train[\"sentiment\"]])\n",
    "\n",
    "## Concatenating the test positive and negative reviews\n",
    "X_test = pd.concat([negative_data_points_test[\"review\"], positive_data_points_test[\"review\"]])\n",
    "## Concatenating the test positive and negative outputs\n",
    "y_test = pd.concat([negative_data_points_test[\"sentiment\"], positive_data_points_test[\"sentiment\"]])\n"
   ]
  },
  {
   "cell_type": "code",
   "execution_count": 12,
   "id": "0cc7a775",
   "metadata": {
    "colab": {
     "base_uri": "https://localhost:8080/"
    },
    "id": "6428047d",
    "outputId": "10d10601-0ce0-4688-c4d3-75fa386583fd"
   },
   "outputs": [
    {
     "data": {
      "text/plain": [
       "negative    10000\n",
       "positive    10000\n",
       "Name: sentiment, dtype: int64"
      ]
     },
     "execution_count": 12,
     "metadata": {},
     "output_type": "execute_result"
    }
   ],
   "source": [
    "## Take a look at the total number of classes and their count using '.value_counts()' for y_train and y_test.\n",
    "## Ensure that there are equal number of positive and negative reviews. \n",
    "y_train.value_counts()"
   ]
  },
  {
   "cell_type": "markdown",
   "id": "7dfe6517",
   "metadata": {
    "id": "7dfe6517"
   },
   "source": [
    "### Expected Output:\n",
    "negative    10000<br>\n",
    "positive    10000<br>\n",
    "Name: sentiment, dtype: int64"
   ]
  },
  {
   "cell_type": "code",
   "execution_count": 13,
   "id": "2beae1d6",
   "metadata": {
    "colab": {
     "base_uri": "https://localhost:8080/"
    },
    "id": "2beae1d6",
    "outputId": "6896f930-6a1a-45db-b74c-d080c9aedd0c"
   },
   "outputs": [
    {
     "data": {
      "text/plain": [
       "negative    2474\n",
       "positive    2474\n",
       "Name: sentiment, dtype: int64"
      ]
     },
     "execution_count": 13,
     "metadata": {},
     "output_type": "execute_result"
    }
   ],
   "source": [
    "y_test.value_counts()"
   ]
  },
  {
   "cell_type": "markdown",
   "id": "9163f897",
   "metadata": {
    "id": "9163f897"
   },
   "source": [
    "### Expected Output : \n",
    "negative    2474<br>\n",
    "positive    2474<br>\n",
    "Name: sentiment, dtype: int64"
   ]
  },
  {
   "cell_type": "markdown",
   "id": "6501699b",
   "metadata": {
    "id": "6501699b"
   },
   "source": [
    "## Q1. Pre-process the reviews: (10 points)\n",
    "\n",
    "We know that a review contains links, punctuation, stopwords and many other words that don't give a lot of meaning for the Naive Bayes model for prediction. \n",
    "\n",
    "In the cell below, one must implement text-preprocessing and remove links, punctuations and stopwords. It is also important to lowercase the letters so that 'Admire' and 'admire' are not treated as different words. \n",
    "\n",
    "In addition to this, perform stemming operation so that similar words are reduced. To know more about stemming, feel free to take a look at this link.\n",
    "\n",
    "https://nlp.stanford.edu/IR-book/html/htmledition/stemming-and-lemmatization-1.html"
   ]
  },
  {
   "cell_type": "code",
   "execution_count": 50,
   "id": "CirLN9-ddQ1r",
   "metadata": {
    "id": "CirLN9-ddQ1r"
   },
   "outputs": [],
   "source": [
    "# TASK CELL\n",
    "import re\n",
    "from nltk.stem import WordNetLemmatizer\n",
    "\n",
    "# nltk.download('punkt')\n",
    "# nltk.download('stopwords')\n",
    "def lemmatizing(review_cleaned):\n",
    "    lemmatizer = WordNetLemmatizer()\n",
    "    l_clean = []\n",
    "    for w in review_cleaned:\n",
    "        l_clean.append(lemmatizer.lemmatize(w))\n",
    "    return l_clean\n",
    "\n",
    "def remove_punctuation(words):\n",
    "    new_words = []\n",
    "    for word in words:\n",
    "        new_word = re.sub(r'[^\\w\\s]', '', word)\n",
    "        if new_word != '':\n",
    "            new_words.append(new_word)\n",
    "    return new_words\n",
    "\n",
    "def remove_stopwords(words):\n",
    "    \"\"\"Remove stop words from list of tokenized words\"\"\"\n",
    "    new_words = []\n",
    "    for word in words:\n",
    "        if word not in stopwords.words('english'):\n",
    "            new_words.append(word)\n",
    "    return new_words\n",
    "\n",
    "def clean_review(review):\n",
    "    '''\n",
    "    Input:\n",
    "        review: a string containing a review.\n",
    "    Output:\n",
    "        review_cleaned: a processed review. \n",
    "\n",
    "    '''\n",
    "    review_cleaned = re.sub(r\"http\\S+\", \"\", review) #remove links\n",
    "    \n",
    "    review_cleaned = review_cleaned.lower()\n",
    "    review_cleaned = word_tokenize(review_cleaned)\n",
    "\n",
    "    review_cleaned = remove_punctuation(review_cleaned) #remove punctuations\n",
    "    review_cleaned = remove_stopwords(review_cleaned) #remove stopwords\n",
    "    \n",
    "    review_cleaned = lemmatizing(review_cleaned)\n",
    "    \n",
    "    return \" \".join(review_cleaned)\n"
   ]
  },
  {
   "cell_type": "markdown",
   "id": "a7632fe5",
   "metadata": {
    "id": "a7632fe5"
   },
   "source": [
    "## Q2. Implement a find_occurrence function (5 points):\n",
    "\n",
    "In this function, we find the total occurrence of a word giving information such as label, word and frequency dictionary.\n",
    "\n",
    "Note that this function is used later in the code when we are going to be predicting the output using Naive Bayes. "
   ]
  },
  {
   "cell_type": "code",
   "execution_count": 15,
   "id": "eb282b81",
   "metadata": {
    "id": "eb282b81"
   },
   "outputs": [],
   "source": [
    "# TASK CELL\n",
    "def find_occurrence(frequency, word, label):\n",
    "    '''\n",
    "    Params:\n",
    "        frequency: a dictionary with the frequency of each pair (or tuple)\n",
    "        word: the word to look up\n",
    "        label: the label corresponding to the word\n",
    "    Return:\n",
    "        n: the number of times the word with its corresponding label appears.\n",
    "    '''\n",
    "    n = 0\n",
    "    t_word = (word, label)\n",
    "    if t_word in frequency:\n",
    "        n = frequency[t_word]\n",
    "    return n"
   ]
  },
  {
   "cell_type": "markdown",
   "id": "29a2249d",
   "metadata": {
    "id": "29a2249d"
   },
   "source": [
    "### Converting output to numerical format:\n",
    "\n",
    "We have outputs as 'positive' or 'negative'. In the cell below, we convert it to a numerical format. "
   ]
  },
  {
   "cell_type": "code",
   "execution_count": 16,
   "id": "bcdc2b2c",
   "metadata": {
    "id": "bcdc2b2c"
   },
   "outputs": [],
   "source": [
    "## With the use of mapping function, we replace\n",
    "## the label in the form of string to an integer. \n",
    "\n",
    "output_map = {'positive': 0, 'negative': 1}\n",
    "y_train = y_train.map(output_map)\n",
    "y_test = y_test.map(output_map)"
   ]
  },
  {
   "cell_type": "code",
   "execution_count": 17,
   "id": "3dde0bbd",
   "metadata": {
    "colab": {
     "base_uri": "https://localhost:8080/"
    },
    "id": "3dde0bbd",
    "outputId": "223dfbc1-8efe-4183-b6d7-c9cb025cb285"
   },
   "outputs": [
    {
     "data": {
      "text/plain": [
       "1    10000\n",
       "0    10000\n",
       "Name: sentiment, dtype: int64"
      ]
     },
     "execution_count": 17,
     "metadata": {},
     "output_type": "execute_result"
    }
   ],
   "source": [
    "## Ensuring that there are equal number of classes on the training data. \n",
    "y_train.value_counts()"
   ]
  },
  {
   "cell_type": "code",
   "execution_count": 18,
   "id": "f2959b85",
   "metadata": {
    "colab": {
     "base_uri": "https://localhost:8080/",
     "height": 178
    },
    "id": "f2959b85",
    "outputId": "e514214b-cd57-43fc-875d-1821ddab63f8"
   },
   "outputs": [
    {
     "data": {
      "text/plain": [
       "'STRANGER THAN FICTION angered me so much, I signed up on IMDb just to write this review. STRANGER THAN FICTION is a surprisingly complex, touching and thought-provoking movie until the very end. Once you suspend multiple lapses of logic (why didn\\'t Will Ferrell hear Emma Thompson\\'s voice 10 years ago when she fist started writing her book? \"The phone rang. The phone rang again.\" How could she not know it\\'s him calling? etc.), the movie challenges one\\'s thoughts about mortality, fate, and sacrifice.<br /><br />The brief history of literary themes provided by Dustin Hoffman should especially entertain former English majors. And Maggie Gyllenhaal is always a pleasure, even though Will Ferrell might just as easily be an ax murderer as a bumbling soul. Her quick trust of him is a mighty big leap of faith.<br /><br />Ah, but the ending. Until the very end, I would have given 9 out of 10 stars to this movie. The movie as a metaphor for life\\'s journey, as a tribute to the notion of \\'writing true,\\' as a reminder that great literature is either comedy or tragedy, but not both, is outstanding. The entire movie leads the viewer to understand and accept the moment of Will Ferrell\\'s fate. And no matter how endearing a character he may have become, we know full well why we will accept the ending. The last act occurs, the screen goes white, the credits roll. A profound and powerful end to an almost perfect film. An end that would have been debated for weeks.<br /><br />NO!!!!!!!!!! No credits rolled. Say it isn\\'t so. Say Hollywood didn\\'t tack on another 10 minutes of crap that completely undermined the integrity and heart of the movie. Dustin Hoffman got it right when he said, \"It\\'s no longer a masterpiece; it\\'s OK.\" An apt review of the movie. Except to me, it wasn\\'t even OK. I was so offended about the betrayal of \\'writing true,\\' about the decision to pander the film that I actually burst into angry tears explaining this on the ride home from the movie. I don\\'t often cry. I could care less about most movies, but I am still angry about this one.<br /><br />My questions for Zack Helm, the writer, are this: did the original movie end when the screen went white? And were you forced by the vapid movie powers-that-be to tack on an ending unfaithful to the core of the movie? Or did you tack that maudlin ending on yourself? I\\'ve read you\\'re brilliant. I hope your original script ended the movie the first time.<br /><br />I know Zack Helm will never see this review, and I\\'ve been unable to find a contact for him to ask myself. But, please, movie-goers, am I the only one who feels this way about STRANGER THAN FICTION? One good thing came from me seeing this movie: I doubly admire LOST IN TRANSLATION now.'"
      ]
     },
     "execution_count": 18,
     "metadata": {},
     "output_type": "execute_result"
    }
   ],
   "source": [
    "## Choosing a random review and taking a look at it.\n",
    "X_train.iloc[0]"
   ]
  },
  {
   "cell_type": "markdown",
   "id": "ed5e43c9",
   "metadata": {
    "id": "ed5e43c9"
   },
   "source": [
    "From the above cell output, it could be seen that there are a lot of words that don't add a lot of meaning to the text. \n",
    "\n",
    "Therefore, those words would be removed. It also reduces the computation time. \n",
    "\n",
    "Therefore, it is a good practice we are following."
   ]
  },
  {
   "cell_type": "code",
   "execution_count": 19,
   "id": "ad3937ea",
   "metadata": {
    "colab": {
     "base_uri": "https://localhost:8080/"
    },
    "id": "ad3937ea",
    "outputId": "68985efe-32cd-4c11-ed5b-2e1e1b297e73"
   },
   "outputs": [
    {
     "name": "stdout",
     "output_type": "stream",
     "text": [
      "stranger fiction angered much signed imdb write review stranger fiction surprisingly complex touching thoughtprovoking movie end suspend multiple lapses logic nt ferrell hear emma thompson voice 10 years ago fist started writing book phone rang phone rang could know calling etc movie challenges one thoughts mortality fate sacrifice br br brief history literary themes provided dustin hoffman especially entertain former english majors maggie gyllenhaal always pleasure even though ferrell might easily ax murderer bumbling soul quick trust mighty big leap faith br br ah ending end would given 9 10 stars movie movie metaphor life journey tribute notion writing true reminder great literature either comedy tragedy outstanding entire movie leads viewer understand accept moment ferrell fate matter endearing character may become know full well accept ending last act occurs screen goes white credits roll profound powerful end almost perfect film end would debated weeks br br credits rolled say nt say hollywood nt tack another 10 minutes crap completely undermined integrity heart movie dustin hoffman got right said longer masterpiece ok apt review movie except nt even ok offended betrayal writing true decision pander film actually burst angry tears explaining ride home movie nt often cry could care less movies still angry one br br questions zack helm writer original movie end screen went white forced vapid movie powersthatbe tack ending unfaithful core movie tack maudlin ending read brilliant hope original script ended movie first time br br know zack helm never see review unable find contact ask please moviegoers one feels way stranger fiction one good thing came seeing movie doubly admire lost translation\n"
     ]
    }
   ],
   "source": [
    "custom_review = X_train.iloc[0]\n",
    "\n",
    "# print cleaned review\n",
    "print(clean_review(custom_review))"
   ]
  },
  {
   "cell_type": "markdown",
   "id": "3e6cc440",
   "metadata": {
    "id": "3e6cc440"
   },
   "source": [
    "We now use this function to pre-process the review and remove words that don't add a lot of meaning in our model. "
   ]
  },
  {
   "cell_type": "markdown",
   "id": "5a762960",
   "metadata": {
    "id": "5a762960"
   },
   "source": [
    "## Q3. Implementing review counter function: (5 points)\n",
    "\n",
    "It is now time to implement the count function for the reviews. \n",
    "\n",
    "In this function, we count the occurrence of words and get the probabilities \n",
    "for the words based on the training data. \n",
    "\n",
    "In other words, we get the probability of occurrence of a word, given that the output is 'positive'.\n",
    "\n",
    "Similarly, we also compute the probability of occurence of a word, given that the output is 'negative'.\n",
    "\n"
   ]
  },
  {
   "cell_type": "code",
   "execution_count": 20,
   "id": "5de61f77",
   "metadata": {
    "id": "5de61f77"
   },
   "outputs": [],
   "source": [
    "# TASK CELL\n",
    "def review_counter(output_occurrence, reviews, positive_or_negative):\n",
    "    '''\n",
    "    Params:\n",
    "        output_occurrence: a dictionary that will be used to map each pair to its frequency\n",
    "        reviews: a list of reviews\n",
    "        positive_or_negative: a list corresponding to the sentiment of each review (either 0 or 1)\n",
    "    Return:\n",
    "        output: a dictionary mapping each pair to its frequency\n",
    "    '''\n",
    "    ## Steps :\n",
    "    # define the key, which is the word and label tuple\n",
    "    # if the key exists in the dictionary, increment the count\n",
    "    # else, if the key is new, add it to the dictionary and set the count to 1\n",
    "    output_occurrence = {}\n",
    "    for label, review in zip(positive_or_negative, reviews):\n",
    "        split_review = clean_review(review).split()\n",
    "        for word in split_review:\n",
    "            temp_tuple = (word, label)\n",
    "            if temp_tuple in output_occurrence:\n",
    "                output_occurrence[temp_tuple] += 1\n",
    "            else:\n",
    "                output_occurrence[temp_tuple] = 1\n",
    "    return output_occurrence\n",
    "   \n"
   ]
  },
  {
   "cell_type": "markdown",
   "id": "18238223",
   "metadata": {
    "id": "18238223"
   },
   "source": [
    "### Test your function with example reviews:\n",
    "\n",
    "Feel free to run the cell below and understand whether the above function that you have defined is producing the optimum results. "
   ]
  },
  {
   "cell_type": "code",
   "execution_count": 21,
   "id": "07a4c58a",
   "metadata": {
    "colab": {
     "base_uri": "https://localhost:8080/"
    },
    "id": "07a4c58a",
    "outputId": "dd9e148a-34a9-4cfe-9077-c5de33493d7a"
   },
   "outputs": [
    {
     "data": {
      "text/plain": [
       "[('bored', 1),\n",
       " ('complete', 1),\n",
       " ('enjoyed', 0),\n",
       " ('fantastic', 0),\n",
       " ('fullest', 0),\n",
       " ('got', 1),\n",
       " ('money', 1),\n",
       " ('movie', 0),\n",
       " ('moview', 1),\n",
       " ('throught', 1),\n",
       " ('time', 1),\n",
       " ('waste', 1),\n",
       " ('watch', 1)]"
      ]
     },
     "execution_count": 21,
     "metadata": {},
     "output_type": "execute_result"
    }
   ],
   "source": [
    "# Testing your function\n",
    "\n",
    "result = {}\n",
    "reviews = ['got bored throught the moview', 'The movie was fantastic', 'Will not watch it again', 'Was bored, it was a complete waste of time and money', 'Enjoyed the movie to the fullest']\n",
    "ys = [1, 0, 1, 1, 0]\n",
    "sorted(review_counter(result,reviews, ys))"
   ]
  },
  {
   "cell_type": "markdown",
   "id": "927f89bb",
   "metadata": {
    "id": "927f89bb"
   },
   "source": [
    "### Expected Output:\n",
    " {('bored', 1): 2, <br>\n",
    " ('complete', 1): 1, <br>\n",
    " ('enjoyed', 0): 1, <br>\n",
    " ('fantastic', 0): 1, <br>\n",
    " ('fullest', 0): 1, <br>\n",
    " ('got', 1): 1, <br>\n",
    " ('money', 1): 1, <br>\n",
    " ('movie', 0): 2, <br>\n",
    " ('moview', 1): 1, <br>\n",
    " ('throught', 1): 1, <br>\n",
    " ('time', 1): 1, <br>\n",
    " ('waste', 1): 1, <br>\n",
    " ('watch', 1): 1}"
   ]
  },
  {
   "cell_type": "code",
   "execution_count": 22,
   "id": "9bc62e13",
   "metadata": {
    "id": "9bc62e13"
   },
   "outputs": [],
   "source": [
    "# Build the freqs dictionary for later uses\n",
    "\n",
    "freqs = review_counter({}, X_train, y_train)"
   ]
  },
  {
   "cell_type": "code",
   "execution_count": 23,
   "id": "0eddf420",
   "metadata": {
    "id": "0eddf420"
   },
   "outputs": [
    {
     "data": {
      "text/plain": [
       "{('stranger', 1): 47,\n",
       " ('fiction', 1): 146,\n",
       " ('angered', 1): 8,\n",
       " ('much', 1): 3929,\n",
       " ('signed', 1): 25,\n",
       " ('imdb', 1): 341,\n",
       " ('write', 1): 326,\n",
       " ('review', 1): 422,\n",
       " ('surprisingly', 1): 113,\n",
       " ('complex', 1): 105,\n",
       " ('touching', 1): 60,\n",
       " ('thoughtprovoking', 1): 20,\n",
       " ('movie', 1): 19812,\n",
       " ('end', 1): 2189,\n",
       " ('suspend', 1): 32,\n",
       " ('multiple', 1): 70,\n",
       " ('lapses', 1): 11,\n",
       " ('logic', 1): 120,\n",
       " ('nt', 1): 15758,\n",
       " ('ferrell', 1): 23,\n",
       " ('hear', 1): 302,\n",
       " ('emma', 1): 21,\n",
       " ('thompson', 1): 29,\n",
       " ('voice', 1): 343,\n",
       " ('10', 1): 849,\n",
       " ('years', 1): 1467,\n",
       " ('ago', 1): 416,\n",
       " ('fist', 1): 19,\n",
       " ('started', 1): 399,\n",
       " ('writing', 1): 617,\n",
       " ('book', 1): 1018,\n",
       " ('phone', 1): 180,\n",
       " ('rang', 1): 17,\n",
       " ('could', 1): 4525,\n",
       " ('know', 1): 2660,\n",
       " ('calling', 1): 83,\n",
       " ('etc', 1): 525,\n",
       " ('challenges', 1): 10,\n",
       " ('one', 1): 10184,\n",
       " ('thoughts', 1): 59,\n",
       " ('mortality', 1): 2,\n",
       " ('fate', 1): 84,\n",
       " ('sacrifice', 1): 39,\n",
       " ('br', 1): 41428,\n",
       " ('brief', 1): 149,\n",
       " ('history', 1): 434,\n",
       " ('literary', 1): 32,\n",
       " ('themes', 1): 119,\n",
       " ('provided', 1): 91,\n",
       " ('dustin', 1): 9,\n",
       " ('hoffman', 1): 41,\n",
       " ('especially', 1): 775,\n",
       " ('entertain', 1): 65,\n",
       " ('former', 1): 158,\n",
       " ('english', 1): 329,\n",
       " ('majors', 1): 14,\n",
       " ('maggie', 1): 17,\n",
       " ('gyllenhaal', 1): 6,\n",
       " ('always', 1): 918,\n",
       " ('pleasure', 1): 85,\n",
       " ('even', 1): 6200,\n",
       " ('though', 1): 1677,\n",
       " ('might', 1): 1314,\n",
       " ('easily', 1): 286,\n",
       " ('ax', 1): 25,\n",
       " ('murderer', 1): 61,\n",
       " ('bumbling', 1): 37,\n",
       " ('soul', 1): 154,\n",
       " ('quick', 1): 132,\n",
       " ('trust', 1): 120,\n",
       " ('mighty', 1): 35,\n",
       " ('big', 1): 1249,\n",
       " ('leap', 1): 24,\n",
       " ('faith', 1): 83,\n",
       " ('ah', 1): 62,\n",
       " ('ending', 1): 841,\n",
       " ('would', 1): 6307,\n",
       " ('given', 1): 766,\n",
       " ('9', 1): 134,\n",
       " ('stars', 1): 608,\n",
       " ('metaphor', 1): 28,\n",
       " ('life', 1): 1720,\n",
       " ('journey', 1): 80,\n",
       " ('tribute', 1): 25,\n",
       " ('notion', 1): 31,\n",
       " ('true', 1): 632,\n",
       " ('reminder', 1): 13,\n",
       " ('great', 1): 2150,\n",
       " ('literature', 1): 34,\n",
       " ('either', 1): 957,\n",
       " ('comedy', 1): 1229,\n",
       " ('tragedy', 1): 77,\n",
       " ('outstanding', 1): 61,\n",
       " ('entire', 1): 656,\n",
       " ('leads', 1): 256,\n",
       " ('viewer', 1): 479,\n",
       " ('understand', 1): 677,\n",
       " ('accept', 1): 90,\n",
       " ('moment', 1): 362,\n",
       " ('matter', 1): 423,\n",
       " ('endearing', 1): 30,\n",
       " ('character', 1): 2749,\n",
       " ('may', 1): 1137,\n",
       " ('become', 1): 503,\n",
       " ('full', 1): 560,\n",
       " ('well', 1): 3147,\n",
       " ('last', 1): 1115,\n",
       " ('act', 1): 607,\n",
       " ('occurs', 1): 59,\n",
       " ('screen', 1): 878,\n",
       " ('goes', 1): 947,\n",
       " ('white', 1): 477,\n",
       " ('credits', 1): 299,\n",
       " ('roll', 1): 106,\n",
       " ('profound', 1): 34,\n",
       " ('powerful', 1): 102,\n",
       " ('almost', 1): 1253,\n",
       " ('perfect', 1): 267,\n",
       " ('film', 1): 14493,\n",
       " ('debated', 1): 9,\n",
       " ('weeks', 1): 90,\n",
       " ('rolled', 1): 39,\n",
       " ('say', 1): 2365,\n",
       " ('hollywood', 1): 662,\n",
       " ('tack', 1): 10,\n",
       " ('another', 1): 1663,\n",
       " ('minutes', 1): 1783,\n",
       " ('crap', 1): 656,\n",
       " ('completely', 1): 935,\n",
       " ('undermined', 1): 20,\n",
       " ('integrity', 1): 19,\n",
       " ('heart', 1): 293,\n",
       " ('got', 1): 1571,\n",
       " ('right', 1): 1276,\n",
       " ('said', 1): 1029,\n",
       " ('longer', 1): 172,\n",
       " ('masterpiece', 1): 123,\n",
       " ('ok', 1): 652,\n",
       " ('apt', 1): 20,\n",
       " ('except', 1): 589,\n",
       " ('offended', 1): 51,\n",
       " ('betrayal', 1): 16,\n",
       " ('decision', 1): 99,\n",
       " ('pander', 1): 7,\n",
       " ('actually', 1): 2011,\n",
       " ('burst', 1): 19,\n",
       " ('angry', 1): 154,\n",
       " ('tears', 1): 84,\n",
       " ('explaining', 1): 70,\n",
       " ('ride', 1): 125,\n",
       " ('home', 1): 589,\n",
       " ('often', 1): 525,\n",
       " ('cry', 1): 97,\n",
       " ('care', 1): 597,\n",
       " ('less', 1): 731,\n",
       " ('movies', 1): 3291,\n",
       " ('still', 1): 1844,\n",
       " ('questions', 1): 162,\n",
       " ('zack', 1): 14,\n",
       " ('helm', 1): 16,\n",
       " ('writer', 1): 364,\n",
       " ('original', 1): 1491,\n",
       " ('went', 1): 682,\n",
       " ('forced', 1): 321,\n",
       " ('vapid', 1): 18,\n",
       " ('powersthatbe', 1): 7,\n",
       " ('unfaithful', 1): 14,\n",
       " ('core', 1): 112,\n",
       " ('maudlin', 1): 11,\n",
       " ('read', 1): 855,\n",
       " ('brilliant', 1): 196,\n",
       " ('hope', 1): 466,\n",
       " ('script', 1): 1733,\n",
       " ('ended', 1): 244,\n",
       " ('first', 1): 3292,\n",
       " ('time', 1): 4795,\n",
       " ('never', 1): 2703,\n",
       " ('see', 1): 4104,\n",
       " ('unable', 1): 100,\n",
       " ('find', 1): 1539,\n",
       " ('contact', 1): 69,\n",
       " ('ask', 1): 289,\n",
       " ('please', 1): 531,\n",
       " ('moviegoers', 1): 23,\n",
       " ('feels', 1): 317,\n",
       " ('way', 1): 3076,\n",
       " ('good', 1): 5868,\n",
       " ('thing', 1): 2172,\n",
       " ('came', 1): 636,\n",
       " ('seeing', 1): 782,\n",
       " ('doubly', 1): 8,\n",
       " ('admire', 1): 37,\n",
       " ('lost', 1): 579,\n",
       " ('translation', 1): 44,\n",
       " ('definitely', 1): 422,\n",
       " ('weirder', 1): 5,\n",
       " ('70', 1): 149,\n",
       " ('notable', 1): 47,\n",
       " ('kicking', 1): 46,\n",
       " ('decade', 1): 92,\n",
       " ('bigfoot', 1): 38,\n",
       " ('hysteria', 1): 15,\n",
       " ('also', 1): 2897,\n",
       " ('little', 1): 2388,\n",
       " ('touches', 1): 44,\n",
       " ('insanity', 1): 17,\n",
       " ('throughout', 1): 531,\n",
       " ('dark', 1): 531,\n",
       " ('moody', 1): 34,\n",
       " ('half', 1): 933,\n",
       " ('replaced', 1): 59,\n",
       " ('musical', 1): 207,\n",
       " ('interlude', 1): 18,\n",
       " ('things', 1): 1564,\n",
       " ('user', 1): 53,\n",
       " ('pointed', 1): 55,\n",
       " ('songs', 1): 278,\n",
       " ('dedicated', 1): 37,\n",
       " ('travis', 1): 8,\n",
       " ('crabtree', 1): 2,\n",
       " ('paddles', 1): 6,\n",
       " ('around', 1): 1480,\n",
       " ('canoe', 1): 4,\n",
       " ('leaves', 1): 216,\n",
       " ('seen', 1): 2648,\n",
       " ('although', 1): 778,\n",
       " ('painfully', 1): 112,\n",
       " ('dated', 1): 65,\n",
       " ('fun', 1): 809,\n",
       " ('scary', 1): 426,\n",
       " ('show', 1): 2291,\n",
       " ('kids', 1): 689,\n",
       " ('anyone', 1): 1129,\n",
       " ('enjoys', 1): 41,\n",
       " ('lore', 1): 7,\n",
       " ('hillbilly', 1): 19,\n",
       " ('culture', 1): 139,\n",
       " ('bound', 1): 47,\n",
       " ('get', 1): 3953,\n",
       " ('kick', 1): 102,\n",
       " ('favorite', 1): 213,\n",
       " ('part', 1): 1513,\n",
       " ('guy', 1): 1491,\n",
       " ('gets', 1): 1270,\n",
       " ('scared', 1): 117,\n",
       " ('jumps', 1): 68,\n",
       " ('headfirst', 1): 3,\n",
       " ('door', 1): 201,\n",
       " ('narrator', 1): 47,\n",
       " ('explains', 1): 77,\n",
       " ('unconscious', 1): 25,\n",
       " ('shock', 1): 182,\n",
       " ('uh', 1): 34,\n",
       " ('breaking', 1): 53,\n",
       " ('head', 1): 696,\n",
       " ('likely', 1): 184,\n",
       " ('whatever', 1): 342,\n",
       " ('410', 1): 123,\n",
       " ('710', 1): 5,\n",
       " ('like', 1): 8779,\n",
       " ('bad', 1): 5855,\n",
       " ('americana', 1): 4,\n",
       " ('geez', 1): 16,\n",
       " ('gay', 1): 313,\n",
       " ('man', 1): 1874,\n",
       " ('lives', 1): 364,\n",
       " ('nyc', 1): 15,\n",
       " ('gratefully', 1): 1,\n",
       " ('underbelly', 1): 4,\n",
       " ('portrayed', 1): 250,\n",
       " ('glad', 1): 140,\n",
       " ('broadcast', 1): 43,\n",
       " ('tv', 1): 1034,\n",
       " ('across', 1): 416,\n",
       " ('united', 1): 42,\n",
       " ('states', 1): 104,\n",
       " ('antigay', 1): 1,\n",
       " ('backlash', 1): 4,\n",
       " ('blame', 1): 157,\n",
       " ('people', 1): 3653,\n",
       " ('represent', 1): 30,\n",
       " ('average', 1): 341,\n",
       " ('american', 1): 765,\n",
       " ('trandgender', 1): 1,\n",
       " ('sheer', 1): 115,\n",
       " ('utter', 1): 141,\n",
       " ('nightmare', 1): 98,\n",
       " ('inclusion', 1): 10,\n",
       " ('obviously', 1): 586,\n",
       " ('underage', 1): 8,\n",
       " ('characters', 1): 2841,\n",
       " ('appalling', 1): 84,\n",
       " ('obvious', 1): 513,\n",
       " ('racist', 1): 89,\n",
       " ('sentiments', 1): 12,\n",
       " ('antiwhite', 1): 1,\n",
       " ('blatant', 1): 59,\n",
       " ('unsettling', 1): 34,\n",
       " ('society', 1): 201,\n",
       " ('blamed', 1): 16,\n",
       " ('chosen', 1): 71,\n",
       " ('drugs', 1): 141,\n",
       " ('unemployment', 1): 6,\n",
       " ('rejection', 1): 6,\n",
       " ('education', 1): 40,\n",
       " ('cast', 1): 1361,\n",
       " ('actions', 1): 119,\n",
       " ('acts', 1): 171,\n",
       " ('desperation', 1): 25,\n",
       " ('rather', 1): 1122,\n",
       " ('anything', 1): 1495,\n",
       " ('resembling', 1): 32,\n",
       " ('personal', 1): 197,\n",
       " ('ambition', 1): 20,\n",
       " ('willingness', 1): 4,\n",
       " ('make', 1): 3642,\n",
       " ('something', 1): 2353,\n",
       " ('self', 1): 157,\n",
       " ('caged', 1): 10,\n",
       " ('birds', 1): 40,\n",
       " ('sing', 1): 79,\n",
       " ('class', 1): 296,\n",
       " ('watched', 1): 930,\n",
       " ('finishing', 1): 33,\n",
       " ('watching', 1): 2085,\n",
       " ('regret', 1): 67,\n",
       " ('took', 1): 429,\n",
       " ('away', 1): 1138,\n",
       " ('impact', 1): 86,\n",
       " ('scenes', 1): 2249,\n",
       " ('made', 1): 3364,\n",
       " ('sense', 1): 929,\n",
       " ('sequences', 1): 343,\n",
       " ('acting', 1): 3205,\n",
       " ('horrible', 1): 900,\n",
       " ('seemed', 1): 670,\n",
       " ('picked', 1): 178,\n",
       " ('opted', 1): 16,\n",
       " ('cliff', 1): 42,\n",
       " ('notes', 1): 38,\n",
       " ('instead', 1): 1149,\n",
       " ('outraged', 1): 6,\n",
       " ('cut', 1): 441,\n",
       " ('certain', 1): 252,\n",
       " ('aspects', 1): 126,\n",
       " ('extremely', 1): 490,\n",
       " ('important', 1): 315,\n",
       " ('maya', 1): 4,\n",
       " ('growth', 1): 22,\n",
       " ('person', 1): 697,\n",
       " ('ruin', 1): 87,\n",
       " ('experience', 1): 322,\n",
       " ('warn', 1): 94,\n",
       " ('really', 1): 5002,\n",
       " ('joke', 1): 341,\n",
       " ('honestly', 1): 275,\n",
       " ('submit', 1): 17,\n",
       " ('suitable', 1): 38,\n",
       " ('sunday', 1): 57,\n",
       " ('night', 1): 829,\n",
       " ('viewing', 1): 227,\n",
       " ('itv4', 1): 2,\n",
       " ('underground', 1): 89,\n",
       " ('awful', 1): 1223,\n",
       " ('london', 1): 100,\n",
       " ('supposedly', 1): 175,\n",
       " ('30ft', 1): 2,\n",
       " ('water', 1): 209,\n",
       " ('robert', 1): 362,\n",
       " ('carlyles', 1): 2,\n",
       " ('drab', 1): 50,\n",
       " ('police', 1): 361,\n",
       " ('commissioners', 1): 2,\n",
       " ('outfit', 1): 34,\n",
       " ('reminds', 1): 93,\n",
       " ('kate', 1): 82,\n",
       " ('moss', 1): 5,\n",
       " ('threw', 1): 68,\n",
       " ('nigel', 1): 7,\n",
       " ('planer', 1): 3,\n",
       " ('looks', 1): 1117,\n",
       " ('old', 1): 1454,\n",
       " ('fact', 1): 1456,\n",
       " ('worried', 1): 38,\n",
       " ('suffered', 1): 57,\n",
       " ('stroke', 1): 19,\n",
       " ('whilst', 1): 121,\n",
       " ('filming', 1): 190,\n",
       " ('father', 1): 650,\n",
       " ('carlyle', 1): 21,\n",
       " ('along', 1): 670,\n",
       " ('necking', 1): 3,\n",
       " ('many', 1): 2333,\n",
       " ('ketamin', 1): 2,\n",
       " ('major', 1): 331,\n",
       " ('awkward', 1): 80,\n",
       " ('deserved', 1): 78,\n",
       " ('killed', 1): 530,\n",
       " ('caught', 1): 182,\n",
       " ('pretending', 1): 47,\n",
       " ('winslett', 1): 3,\n",
       " ('titanic', 1): 30,\n",
       " ('dangling', 1): 11,\n",
       " ('thames', 1): 4,\n",
       " ('barrier', 1): 11,\n",
       " ('sorry', 1): 509,\n",
       " ('lovers', 1): 84,\n",
       " ('avoid', 1): 500,\n",
       " ('costs', 1): 134,\n",
       " ('stuttering', 1): 8,\n",
       " ('plot', 1): 3286,\n",
       " ('uninteresting', 1): 133,\n",
       " ('subpar', 1): 79,\n",
       " ('least', 1): 1524,\n",
       " ('dialogue', 1): 831,\n",
       " ('plagues', 1): 10,\n",
       " ('production', 1): 801,\n",
       " ('hardly', 1): 306,\n",
       " ('interesting', 1): 1334,\n",
       " ('billion', 1): 9,\n",
       " ('dollar', 1): 86,\n",
       " ('budget', 1): 857,\n",
       " ('believable', 1): 248,\n",
       " ('motives', 1): 39,\n",
       " ('professed', 1): 4,\n",
       " ('occupations', 1): 4,\n",
       " ('reads', 1): 46,\n",
       " ('dungeons', 1): 10,\n",
       " ('dragons', 1): 31,\n",
       " ('tm', 1): 8,\n",
       " ('hack', 1): 59,\n",
       " ('plasma', 1): 6,\n",
       " ('rifles', 1): 9,\n",
       " ('force', 1): 188,\n",
       " ('fields', 1): 35,\n",
       " ('severe', 1): 45,\n",
       " ('continuity', 1): 119,\n",
       " ('issues', 1): 156,\n",
       " ('degree', 1): 88,\n",
       " ('pointless', 1): 354,\n",
       " ('interaction', 1): 26,\n",
       " ('author', 1): 122,\n",
       " ('wincing', 1): 10,\n",
       " ('plague', 1): 64,\n",
       " ('watch', 1): 2924,\n",
       " ('episode', 1): 494,\n",
       " ('angel', 1): 86,\n",
       " ('better', 1): 2668,\n",
       " ('yuck', 1): 17,\n",
       " ('barney', 1): 76,\n",
       " ('teaches', 1): 26,\n",
       " ('nothing', 1): 2375,\n",
       " ('3', 1): 711,\n",
       " ('reasons', 1): 257,\n",
       " ('let', 1): 1053,\n",
       " ('1', 1): 678,\n",
       " ('think', 1): 2684,\n",
       " ('exactly', 1): 404,\n",
       " ('2', 1): 1155,\n",
       " ('sad', 1): 398,\n",
       " ('feel', 1): 1123,\n",
       " ('eat', 1): 139,\n",
       " ('lots', 1): 301,\n",
       " ('ice', 1): 86,\n",
       " ('cream', 1): 36,\n",
       " ('pity', 1): 89,\n",
       " ('give', 1): 1435,\n",
       " ('want', 1): 1592,\n",
       " ('fat', 1): 162,\n",
       " ('doll', 1): 63,\n",
       " ('told', 1): 338,\n",
       " ('strangers', 1): 22,\n",
       " ('friends', 1): 691,\n",
       " ('trusted', 1): 13,\n",
       " ('high', 1): 717,\n",
       " ('every', 1): 1555,\n",
       " ('day', 1): 844,\n",
       " ('constantly', 1): 161,\n",
       " ('giggles', 1): 26,\n",
       " ('thank', 1): 120,\n",
       " ('older', 1): 175,\n",
       " ('wow', 1): 183,\n",
       " ('place', 1): 907,\n",
       " ('happen', 1): 437,\n",
       " ('practically', 1): 93,\n",
       " ('spin', 1): 54,\n",
       " ('result', 1): 282,\n",
       " ('none', 1): 498,\n",
       " ('particularly', 1): 424,\n",
       " ('starts', 1): 510,\n",
       " ('kay', 1): 48,\n",
       " ('francis', 1): 32,\n",
       " ('housewife', 1): 19,\n",
       " ('living', 1): 366,\n",
       " ('small', 1): 557,\n",
       " ('town', 1): 471,\n",
       " ('local', 1): 382,\n",
       " ('theater', 1): 314,\n",
       " ('ambitions', 1): 13,\n",
       " ('going', 1): 1841,\n",
       " ('broadway', 1): 53,\n",
       " ('bigtime', 1): 7,\n",
       " ('actor', 1): 884,\n",
       " ('arrives', 1): 60,\n",
       " ('pursues', 1): 12,\n",
       " ('hopes', 1): 127,\n",
       " ('career', 1): 365,\n",
       " ('boost', 1): 17,\n",
       " ('husband', 1): 333,\n",
       " ('shenanigans', 1): 8,\n",
       " ('cad', 1): 8,\n",
       " ('hubby', 1): 18,\n",
       " ('bursts', 1): 19,\n",
       " ('hits', 1): 90,\n",
       " ('dies', 1): 178,\n",
       " ('convicted', 1): 15,\n",
       " ('murder', 1): 338,\n",
       " ('manslaughter', 1): 4,\n",
       " ('pregnant', 1): 95,\n",
       " ('need', 1): 755,\n",
       " ('funds', 1): 20,\n",
       " ('new', 1): 1325,\n",
       " ('york', 1): 225,\n",
       " ('jobs', 1): 54,\n",
       " ('found', 1): 979,\n",
       " ('take', 1): 1375,\n",
       " ('job', 1): 616,\n",
       " ('burlesque', 1): 7,\n",
       " ('adequately', 1): 17,\n",
       " ('young', 1): 1012,\n",
       " ('daughter', 1): 463,\n",
       " ('gives', 1): 427,\n",
       " ('woman', 1): 1077,\n",
       " ('raise', 1): 73,\n",
       " ('however', 1): 1354,\n",
       " ('eventually', 1): 228,\n",
       " ('real', 1): 1627,\n",
       " ('play', 1): 705,\n",
       " ('everything', 1): 955,\n",
       " ('rosy', 1): 5,\n",
       " ('jealous', 1): 26,\n",
       " ('diva', 1): 12,\n",
       " ('starring', 1): 165,\n",
       " ('hates', 1): 28,\n",
       " ('inexplicable', 1): 27,\n",
       " ('reason', 1): 1193,\n",
       " ('forces', 1): 84,\n",
       " ('thrown', 1): 215,\n",
       " ('despondent', 1): 5,\n",
       " ('makes', 1): 1451,\n",
       " ('england', 1): 89,\n",
       " ('becomes', 1): 436,\n",
       " ('star', 1): 660,\n",
       " ('later', 1): 733,\n",
       " ('returns', 1): 131,\n",
       " ('kid', 1): 455,\n",
       " ('child', 1): 442,\n",
       " ('thinks', 1): 227,\n",
       " ('caring', 1): 94,\n",
       " ('mother', 1): 523,\n",
       " ('lawyer', 1): 44,\n",
       " ('10000', 1): 11,\n",
       " ('prison', 1): 139,\n",
       " ('reviewer', 1): 86,\n",
       " ('wrote', 1): 272,\n",
       " ('bribe', 1): 6,\n",
       " ('otherwise', 1): 340,\n",
       " ('maybe', 1): 1159,\n",
       " ('buy', 1): 306,\n",
       " ('helicopter', 1): 51,\n",
       " ('fly', 1): 115,\n",
       " ('yard', 1): 38,\n",
       " ('scoop', 1): 1,\n",
       " ('enough', 1): 1545,\n",
       " ('films', 1): 2427,\n",
       " ('45', 1): 101,\n",
       " ('minute', 1): 323,\n",
       " ('mark', 1): 239,\n",
       " ('believe', 1): 1095,\n",
       " ('quite', 1): 1295,\n",
       " ('bit', 1): 1021,\n",
       " ('unfolds', 1): 24,\n",
       " ('sort', 1): 672,\n",
       " ('kitchen', 1): 49,\n",
       " ('sink', 1): 37,\n",
       " ('throwing', 1): 83,\n",
       " ('hoping', 1): 213,\n",
       " ('somehow', 1): 344,\n",
       " ('work', 1): 1603,\n",
       " ('unfortunately', 1): 724,\n",
       " ('turns', 1): 402,\n",
       " ('hopelessly', 1): 41,\n",
       " ('unbelievable', 1): 228,\n",
       " ('mushy', 1): 5,\n",
       " ('despite', 1): 523,\n",
       " ('ms', 1): 125,\n",
       " ('best', 1): 1673,\n",
       " ('efforts', 1): 119,\n",
       " ('saved', 1): 133,\n",
       " ('thanks', 1): 139,\n",
       " ('2ndrate', 1): 1,\n",
       " ('someone', 1): 1199,\n",
       " ('dozen', 1): 85,\n",
       " ('elements', 1): 279,\n",
       " ('box', 1): 279,\n",
       " ('began', 1): 115,\n",
       " ('randomly', 1): 37,\n",
       " ('picking', 1): 61,\n",
       " ('order', 1): 408,\n",
       " ('overall', 1): 552,\n",
       " ('unless', 1): 387,\n",
       " ('diehard', 1): 50,\n",
       " ('fan', 1): 726,\n",
       " ('love', 1): 1620,\n",
       " ('1930s', 1): 30,\n",
       " ('skip', 1): 168,\n",
       " ('terrible', 1): 1183,\n",
       " ('certainly', 1): 503,\n",
       " ('plays', 1): 612,\n",
       " ('upon', 1): 354,\n",
       " ('return', 1): 180,\n",
       " ('sybil', 1): 10,\n",
       " ('jason', 1): 82,\n",
       " ('supposed', 1): 856,\n",
       " ('hell', 1): 565,\n",
       " ('lot', 1): 1562,\n",
       " ('use', 1): 748,\n",
       " ('brian', 1): 89,\n",
       " ('conley', 1): 3,\n",
       " ('gangster', 1): 55,\n",
       " ('start', 1): 783,\n",
       " ('christopher', 1): 130,\n",
       " ('biggins', 1): 1,\n",
       " ('absolutely', 1): 758,\n",
       " ('idea', 1): 1049,\n",
       " ('double', 1): 112,\n",
       " ('crosses', 1): 21,\n",
       " ('twists', 1): 140,\n",
       " ('deserves', 1): 167,\n",
       " ('0', 1): 84,\n",
       " ('gave', 1): 499,\n",
       " ('recommend', 1): 526,\n",
       " ('worst', 1): 1859,\n",
       " ('enemy', 1): 93,\n",
       " ('poke', 1): 22,\n",
       " ('eyeballs', 1): 24,\n",
       " ('rusty', 1): 30,\n",
       " ('scissors', 1): 12,\n",
       " ('telling', 1): 190,\n",
       " ('hour', 1): 563,\n",
       " ('wo', 1): 433,\n",
       " ('back', 1): 1798,\n",
       " ('lock', 1): 37,\n",
       " ('stock', 1): 177,\n",
       " ('two', 1): 2505,\n",
       " ('smoking', 1): 61,\n",
       " ('barrels', 1): 10,\n",
       " ('nobody', 1): 224,\n",
       " ('knows', 1): 322,\n",
       " ('anybody', 1): 153,\n",
       " ('conspiracy', 1): 49,\n",
       " ('theory', 1): 76,\n",
       " ('thriller', 1): 303,\n",
       " ('satanistnut', 1): 2,\n",
       " ('bomber', 1): 13,\n",
       " ('targeting', 1): 7,\n",
       " ('religious', 1): 125,\n",
       " ('festivities', 1): 4,\n",
       " ('seville', 1): 9,\n",
       " ('holy', 1): 63,\n",
       " ('week', 1): 173,\n",
       " ('happens', 1): 549,\n",
       " ('friend', 1): 465,\n",
       " ('hero', 1): 424,\n",
       " ('set', 1): 886,\n",
       " ('computer', 1): 242,\n",
       " ('game', 1): 447,\n",
       " ('players', 1): 87,\n",
       " ('virtual', 1): 26,\n",
       " ('environment', 1): 55,\n",
       " ('alleys', 1): 8,\n",
       " ('streets', 1): 57,\n",
       " ('city', 1): 350,\n",
       " ('begin', 1): 308,\n",
       " ('labyrinthine', 1): 2,\n",
       " ('qualities', 1): 86,\n",
       " ('pacmantype', 1): 2,\n",
       " ('games', 1): 117,\n",
       " ('looked', 1): 595,\n",
       " ('scene', 1): 2330,\n",
       " ('female', 1): 460,\n",
       " ('sidekick', 1): 48,\n",
       " ('chased', 1): 43,\n",
       " ('blackhooded', 1): 2,\n",
       " ('penitents', 1): 2,\n",
       " ('rayguns', 1): 2,\n",
       " ('seem', 1): 972,\n",
       " ('silly', 1): 510,\n",
       " ('aware', 1): 85,\n",
       " ('narrative', 1): 138,\n",
       " ('constructed', 1): 39,\n",
       " ('create', 1): 228,\n",
       " ('crossword', 1): 4,\n",
       " ('puzzles', 1): 13,\n",
       " ('popular', 1): 166,\n",
       " ('newspaper', 1): 33,\n",
       " ('point', 1): 1403,\n",
       " ('grid', 1): 3,\n",
       " ('chessboard', 1): 2,\n",
       " ('playing', 1): 595,\n",
       " ('girlfriend', 1): 232,\n",
       " ('clues', 1): 34,\n",
       " ('liberally', 1): 6,\n",
       " ('scattered', 1): 28,\n",
       " ('camera', 1): 832,\n",
       " ('mystifyingly', 1): 2,\n",
       " ('closes', 1): 14,\n",
       " ('images', 1): 125,\n",
       " ('shown', 1): 357,\n",
       " ('significant', 1): 52,\n",
       " ('eg', 1): 68,\n",
       " ('advert', 1): 7,\n",
       " ('bar', 1): 156,\n",
       " ('detectivepaper', 1): 2,\n",
       " ('chase', 1): 183,\n",
       " ('progress', 1): 31,\n",
       " ('investigation', 1): 40,\n",
       " ('borrows', 1): 21,\n",
       " ('heavily', 1): 75,\n",
       " ('se7en', 1): 10,\n",
       " ('pattern', 1): 22,\n",
       " ('catholic', 1): 64,\n",
       " ('presumably', 1): 75,\n",
       " ('significance', 1): 32,\n",
       " ('events', 1): 278,\n",
       " ('happening', 1): 148,\n",
       " ('days', 1): 484,\n",
       " ('run', 1): 545,\n",
       " ('easter', 1): 12,\n",
       " ('reading', 1): 293,\n",
       " ('level', 1): 387,\n",
       " ('fighting', 1): 203,\n",
       " ('case', 1): 609,\n",
       " ('win', 1): 143,\n",
       " ('save', 1): 594,\n",
       " ('second', 1): 689,\n",
       " ('subvert', 1): 2,\n",
       " ('killer', 1): 561,\n",
       " ('intentions', 1): 99,\n",
       " ('filmmaker', 1): 130,\n",
       " ('ten', 1): 357,\n",
       " ('references', 1): 106,\n",
       " ('chess', 1): 23,\n",
       " ('called', 1): 564,\n",
       " ('navokov', 1): 2,\n",
       " ('cult', 1): 168,\n",
       " ('leader', 1): 104,\n",
       " ('sarin', 1): 2,\n",
       " ('remember', 1): 547,\n",
       " ('chessloving', 1): 2,\n",
       " ('nabokov', 1): 4,\n",
       " ('pseudonym', 1): 11,\n",
       " ('sirin', 1): 2,\n",
       " ('afoot', 1): 9,\n",
       " ('suspect', 1): 127,\n",
       " ('villain', 1): 236,\n",
       " ('novel', 1): 387,\n",
       " ('pale', 1): 40,\n",
       " ('fire', 1): 335,\n",
       " ('authorfigure', 1): 2,\n",
       " ('creates', 1): 61,\n",
       " ('text', 1): 81,\n",
       " ('designed', 1): 101,\n",
       " ('hide', 1): 109,\n",
       " ('provoking', 1): 29,\n",
       " ('reader', 1): 37,\n",
       " ('uncover', 1): 14,\n",
       " ('visually', 1): 92,\n",
       " ('distorted', 1): 24,\n",
       " ('image', 1): 168,\n",
       " ('contracting', 1): 4,\n",
       " ('ambiguously', 1): 2,\n",
       " ('defined', 1): 26,\n",
       " ('dreams', 1): 65,\n",
       " ('hallucinations', 1): 11,\n",
       " ('us', 1): 1240,\n",
       " ('view', 1): 303,\n",
       " ('opening', 1): 380,\n",
       " ('linked', 1): 21,\n",
       " ('early', 1): 463,\n",
       " ('sexual', 1): 255,\n",
       " ('creative', 1): 130,\n",
       " ('impotence', 1): 5,\n",
       " ('attempt', 1): 581,\n",
       " ('master', 1): 146,\n",
       " ('winner', 1): 65,\n",
       " ('ca', 1): 1726,\n",
       " ('sooner', 1): 32,\n",
       " ('block', 1): 35,\n",
       " ('vanishes', 1): 22,\n",
       " ('words', 1): 332,\n",
       " ('types', 1): 89,\n",
       " ('title', 1): 673,\n",
       " ('suggesting', 1): 22,\n",
       " ('spanish', 1): 127,\n",
       " ('reflects', 1): 11,\n",
       " ('negatively', 1): 16,\n",
       " ('nabokovian', 1): 2,\n",
       " ('involution', 1): 2,\n",
       " ('suggests', 1): 49,\n",
       " ('kinbote', 1): 2,\n",
       " ('trapped', 1): 90,\n",
       " ('solecism', 1): 2,\n",
       " ('jumble', 1): 6,\n",
       " ('postmodern', 1): 9,\n",
       " ('borges', 1): 2,\n",
       " ('eco', 1): 2,\n",
       " ('pynchon', 1): 2,\n",
       " ('et', 1): 41,\n",
       " ('al', 1): 90,\n",
       " ('alluded', 1): 10,\n",
       " ('fincher', 1): 6,\n",
       " ('xfiles', 1): 17,\n",
       " ('lola', 1): 17,\n",
       " ('chris', 1): 133,\n",
       " ('marker', 1): 4,\n",
       " ('map', 1): 31,\n",
       " ('cultural', 1): 43,\n",
       " ('haunting', 1): 37,\n",
       " ('present', 1): 194,\n",
       " ('bunuellian', 1): 2,\n",
       " ('anticlericism', 1): 2,\n",
       " ('alex', 1): 74,\n",
       " ('de', 1): 175,\n",
       " ('la', 1): 251,\n",
       " ('iglesia', 1): 2,\n",
       " ('cleverclever', 1): 2,\n",
       " ('allusive', 1): 2,\n",
       " ('element', 1): 112,\n",
       " ('cancelling', 1): 4,\n",
       " ('dissipating', 1): 2,\n",
       " ('interest', 1): 400,\n",
       " ('lack', 1): 596,\n",
       " ('clarity', 1): 18,\n",
       " ('rules', 1): 71,\n",
       " ('renders', 1): 11,\n",
       " ('incomprehensible', 1): 64,\n",
       " ('wearing', 1): 159,\n",
       " ('ironically', 1): 40,\n",
       " ('overdetermined', 1): 2,\n",
       " ('artifice', 1): 4,\n",
       " ('main', 1): 1011,\n",
       " ('lies', 1): 100,\n",
       " ('documentary', 1): 251,\n",
       " ('quality', 1): 512,\n",
       " ('record', 1): 112,\n",
       " ('taking', 1): 346,\n",
       " ('independently', 1): 6,\n",
       " ('ambiguous', 1): 17,\n",
       " ('blurring', 1): 8,\n",
       " ('sans', 1): 21,\n",
       " ('soleil', 1): 3,\n",
       " ('ultimately', 1): 167,\n",
       " ('light', 1): 319,\n",
       " ('touch', 1): 125,\n",
       " ('match', 1): 125,\n",
       " ('cleverness', 1): 15,\n",
       " ('thinking', 1): 596,\n",
       " ('next', 1): 692,\n",
       " ('clerks', 1): 21,\n",
       " ('left', 1): 907,\n",
       " ('feeling', 1): 449,\n",
       " ('humor', 1): 461,\n",
       " ('weak', 1): 387,\n",
       " ('fairly', 1): 221,\n",
       " ('flat', 1): 324,\n",
       " ('dating', 1): 51,\n",
       " ('service', 1): 58,\n",
       " ('grocery', 1): 14,\n",
       " ('store', 1): 209,\n",
       " ('pretty', 1): 1727,\n",
       " ('fertile', 1): 9,\n",
       " ('material', 1): 354,\n",
       " ('director', 1): 1838,\n",
       " ('switched', 1): 26,\n",
       " ('focus', 1): 187,\n",
       " ('cliche', 1): 52,\n",
       " ('momandpop', 1): 3,\n",
       " ('evil', 1): 649,\n",
       " ('corporation', 1): 17,\n",
       " ('felt', 1): 626,\n",
       " ('stuck', 1): 172,\n",
       " ('come', 1): 1181,\n",
       " ('memorable', 1): 173,\n",
       " ('justice', 1): 98,\n",
       " ('rochester', 1): 47,\n",
       " ('area', 1): 140,\n",
       " ('loved', 1): 271,\n",
       " ('webster', 1): 12,\n",
       " ('kevin', 1): 132,\n",
       " ('smith', 1): 116,\n",
       " ('homage', 1): 57,\n",
       " ('giving', 1): 342,\n",
       " ('props', 1): 43,\n",
       " ('hometown', 1): 13,\n",
       " ('ny', 1): 27,\n",
       " ('checkout', 1): 8,\n",
       " ('red', 1): 253,\n",
       " ('bank', 1): 106,\n",
       " ('nj', 1): 3,\n",
       " ('wisely', 1): 24,\n",
       " ('date', 1): 131,\n",
       " ('nick', 1): 79,\n",
       " ('tahou', 1): 3,\n",
       " ('far', 1): 1182,\n",
       " ('garbage', 1): 326,\n",
       " ('plate', 1): 14,\n",
       " ('top', 1): 517,\n",
       " ('list', 1): 240,\n",
       " ('lucky', 1): 87,\n",
       " ('everybody', 1): 157,\n",
       " ('knew', 1): 296,\n",
       " ('odes', 1): 3,\n",
       " ('appreciated', 1): 28,\n",
       " ('three', 1): 833,\n",
       " ('required', 1): 113,\n",
       " ('piece', 1): 706,\n",
       " ('enjoyed', 1): 268,\n",
       " ('cartoon', 1): 226,\n",
       " ('complete', 1): 487,\n",
       " ('waste', 1): 1030,\n",
       " ('money', 1): 1239,\n",
       " ('hours', 1): 394,\n",
       " ('auditorium', 1): 2,\n",
       " ('feet', 1): 123,\n",
       " ('sticking', 1): 30,\n",
       " ('floor', 1): 126,\n",
       " ('yes', 1): 642,\n",
       " ('names', 1): 192,\n",
       " ('catch', 1): 136,\n",
       " ('phrases', 1): 16,\n",
       " ('name', 1): 692,\n",
       " ('dog', 1): 261,\n",
       " ('shoeshine', 1): 2,\n",
       " ('reference', 1): 65,\n",
       " ('boy', 1): 517,\n",
       " ('polly', 1): 26,\n",
       " ('miss', 1): 315,\n",
       " ('sweet', 1): 91,\n",
       " ('purebred', 1): 2,\n",
       " ('wife', 1): 635,\n",
       " ('son', 1): 420,\n",
       " ('drug', 1): 143,\n",
       " ('drugged', 1): 19,\n",
       " ('underdog', 1): 20,\n",
       " ('voiced', 1): 15,\n",
       " ('wally', 1): 9,\n",
       " ('cox', 1): 33,\n",
       " ('ultimate', 1): 54,\n",
       " ('nerd', 1): 85,\n",
       " ('smart', 1): 154,\n",
       " ('alleck', 1): 1,\n",
       " ('teenager', 1): 93,\n",
       " ('adults', 1): 134,\n",
       " ('attitude', 1): 89,\n",
       " ('stand', 1): 242,\n",
       " ('alone', 1): 379,\n",
       " ('worse', 1): 1020,\n",
       " ('retelling', 1): 14,\n",
       " ('story', 1): 3959,\n",
       " ('updating', 1): 12,\n",
       " ('purely', 1): 78,\n",
       " ('cash', 1): 112,\n",
       " ('known', 1): 335,\n",
       " ('merchandising', 1): 6,\n",
       " ('go', 1): 2025,\n",
       " ('fear', 1): 150,\n",
       " ('toys', 1): 17,\n",
       " ('pajamas', 1): 3,\n",
       " ('towels', 1): 3,\n",
       " ('sheets', 1): 14,\n",
       " ('clothing', 1): 38,\n",
       " ('mcdonalds', 1): 8,\n",
       " ('burger', 1): 11,\n",
       " ('king', 1): 339,\n",
       " ('probably', 1): 1230,\n",
       " ('fought', 1): 28,\n",
       " ('meal', 1): 24,\n",
       " ('rights', 1): 58,\n",
       " ('soundtrack', 1): 246,\n",
       " ('theme', 1): 262,\n",
       " ('song', 1): 305,\n",
       " ('rap', 1): 43,\n",
       " ('silent', 1): 166,\n",
       " ('c', 1): 115,\n",
       " ('beginning', 1): 573,\n",
       " ('destroy', 1): 136,\n",
       " ('fears', 1): 21,\n",
       " ('confirmed', 1): 17,\n",
       " ('arrived', 1): 34,\n",
       " ...}"
      ]
     },
     "execution_count": 23,
     "metadata": {},
     "output_type": "execute_result"
    }
   ],
   "source": [
    "## Run this cell to get an idea about the corpus of words and their occurrence along with labels. \n",
    "## In this, we are computing the frequency of occurrence of word given that a review is 'positive'.\n",
    "## Similarly, we also compute the frequence of occurence of word given that a review is 'negative'.\n",
    "freqs"
   ]
  },
  {
   "cell_type": "markdown",
   "id": "759c24bc",
   "metadata": {
    "id": "759c24bc"
   },
   "source": [
    "## Q4. Training the Naive Bayes Model: (20 points)\n",
    "\n",
    "Now we are in the training phase of the Naive Bayes algorithm. In this cell, take a look at the ways to calculate the log likelihood and log prior values as these are important for testing in the next few cells. \n",
    "\n",
    "Also calculate the frequency of occurrence of words where the output is negative. In the same way, calculate the word frequency count using the above functions in order to compute the log likelihood.\n",
    "\n",
    "Return the logprior and loglikelihood output by the model from this function. "
   ]
  },
  {
   "cell_type": "code",
   "execution_count": 24,
   "id": "a7f280e3",
   "metadata": {
    "id": "a7f280e3"
   },
   "outputs": [],
   "source": [
    "def train_naive_bayes(freqs, train_x, train_y):\n",
    "    '''\n",
    "    Input:\n",
    "        freqs: dictionary from (word, label) to how often the word appears\n",
    "        train_x: a list of reviews\n",
    "        train_y: a list of labels correponding to the reviews (0,1)\n",
    "    Output:\n",
    "        logprior: the log prior. (equation 3 above)\n",
    "        loglikelihood: the log likelihood of you Naive bayes equation. (equation 6 above)\n",
    "    '''\n",
    "    loglikelihood = {}\n",
    "    logprior = 0\n",
    "\n",
    "\n",
    "    # calculate V, the number of unique words in the vocabulary\n",
    "    vocab = []\n",
    "    for t in freqs:\n",
    "        if t[0] not in vocab:\n",
    "            vocab.append(t[0])\n",
    "    V = len(vocab)\n",
    "\n",
    "    # calculate num_pos and num_neg - the total number of positive and negative words for all documents\n",
    "    num_pos = num_neg = 0\n",
    "    for pair in freqs.keys():\n",
    "        # if the label is positive (greater than zero)\n",
    "        if pair[1] == 0:\n",
    "\n",
    "            # Increment the number of positive words by the count for this (word, label) pair\n",
    "            num_pos += freqs[pair]\n",
    "\n",
    "        # else, the label is negative\n",
    "        else:\n",
    "\n",
    "            # increment the number of negative words by the count for this (word,label) pair\n",
    "            num_neg += freqs[pair]\n",
    "\n",
    "    # Calculate num_doc, the number of documents\n",
    "    num_doc = len(train_x)\n",
    "    output_count = train_y.value_counts()\n",
    "    \n",
    "    # Calculate D_pos, the number of positive documents \n",
    "    pos_num_docs = output_count.get(key = 0)\n",
    "\n",
    "    # Calculate D_neg, the number of negative documents \n",
    "    neg_num_docs = output_count.get(key = 1)\n",
    "\n",
    "    # Calculate logprior\n",
    "    logprior = math.log(pos_num_docs / neg_num_docs)\n",
    "\n",
    "    # For each word in the vocabulary...\n",
    "    for word in vocab:\n",
    "        # get the positive and negative frequency of the word\n",
    "        freq_pos = find_occurrence(freqs,word,0)\n",
    "        freq_neg = find_occurrence(freqs,word,1)\n",
    "\n",
    "        # calculate the probability that each word is positive, and negative\n",
    "        p_w_pos = freq_pos + 1 / (num_pos + num_neg)\n",
    "        p_w_neg = freq_neg + 1 / (num_pos + num_neg)\n",
    "        \n",
    "        # calculate the log likelihood of the word\n",
    "        loglikelihood[word] = math.log(p_w_neg/p_w_pos)\n",
    "\n",
    "\n",
    "    return logprior, loglikelihood"
   ]
  },
  {
   "cell_type": "code",
   "execution_count": 25,
   "id": "1561d892",
   "metadata": {
    "id": "1561d892"
   },
   "outputs": [
    {
     "name": "stdout",
     "output_type": "stream",
     "text": [
      "0.0\n",
      "80847\n"
     ]
    }
   ],
   "source": [
    "# You do not have to input any code in this cell, but it is relevant to grading, so please do not change anything\n",
    "logprior, loglikelihood = train_naive_bayes(freqs, X_train, y_train)\n",
    "print(logprior)\n",
    "print(len(loglikelihood))"
   ]
  },
  {
   "cell_type": "markdown",
   "id": "19d9c882",
   "metadata": {
    "id": "19d9c882"
   },
   "source": [
    "### Expected Output \n",
    "\n",
    "0.0 <br>\n",
    "91425"
   ]
  },
  {
   "cell_type": "markdown",
   "id": "78b51303",
   "metadata": {
    "id": "78b51303"
   },
   "source": [
    "## Q5. Implementing Naive Bayes Predict Function: (10 points)\n",
    "\n",
    "It is now time to make our prediction as to whether a given review is negative or positive respectively. \n",
    "\n",
    "After adding the log likelihood values, ensure that the output is 1 (negative) if the sum of the log likelihood value is greater than 0 and 0 (positive) if the sum of the log likelihood is less than or equal to 0. "
   ]
  },
  {
   "cell_type": "code",
   "execution_count": 26,
   "id": "b692c2f9",
   "metadata": {
    "id": "b692c2f9"
   },
   "outputs": [],
   "source": [
    "# TASK 4 CELL\n",
    "\n",
    "def naive_bayes_predict(review, logprior, loglikelihood):\n",
    "    '''\n",
    "    Params:\n",
    "        review: a string\n",
    "        logprior: a number\n",
    "        loglikelihood: a dictionary of words mapping to numbers\n",
    "    Return:\n",
    "        total_prob: the sum of all the loglikelihoods of each word in the review (if found in the dictionary) + logprior (a number)\n",
    "\n",
    "    '''\n",
    "    \n",
    "    # process the review to get a list of words\n",
    "    word_l = clean_review(review).split()\n",
    "\n",
    "    # initialize probability to zero\n",
    "    total_prob = 0\n",
    "\n",
    "    # add the logprior\n",
    "    total_prob += logprior\n",
    "\n",
    "    for word in word_l:\n",
    "        # check if the word exists in the loglikelihood dictionary\n",
    "        if word in loglikelihood:\n",
    "            # add the log likelihood of that word to the probability\n",
    "            total_prob += loglikelihood[word]\n",
    "\n",
    "    if total_prob > 0:\n",
    "        total_prob = 1\n",
    "    else:\n",
    "        total_prob = 0\n",
    "        \n",
    "    return total_prob"
   ]
  },
  {
   "cell_type": "code",
   "execution_count": 27,
   "id": "4b170333",
   "metadata": {
    "colab": {
     "base_uri": "https://localhost:8080/"
    },
    "id": "4b170333",
    "outputId": "0cf6bc90-90e8-4dee-bf95-7eaf39dce147"
   },
   "outputs": [
    {
     "name": "stdout",
     "output_type": "stream",
     "text": [
      "The expected output is 1\n"
     ]
    }
   ],
   "source": [
    "# You do not have to input any code in this cell, but it is relevant to grading, so please do not change anything\n",
    "\n",
    "# Experiment with your own review.\n",
    "my_review = \"I thought this series was going to be another fun, action series with some dynamic plots and great performances. I was wrong. While I like Jamie Denton, this show is hardly worth watching at all, unless you enjoy watching some people brutalized and the actions of the agents supposedly warranted under the theme of national security. The show is great propaganda for the current government, and spews out jingoism as though we talk that way every day. After a couple of episodes, it was boring the hell out of me, and I started watching reruns of House Invaders on BBCAmerica instead. Rather watch CSI and Without a Trace, without a doubt.\"\n",
    "p = naive_bayes_predict(my_review, logprior, loglikelihood)\n",
    "print('The expected output is', p)"
   ]
  },
  {
   "cell_type": "markdown",
   "id": "6242708f",
   "metadata": {
    "id": "6242708f"
   },
   "source": [
    "### Expected Output :\n",
    "The expected output is 1"
   ]
  },
  {
   "cell_type": "markdown",
   "id": "7c4eeb71",
   "metadata": {
    "id": "7c4eeb71"
   },
   "source": [
    "## Q6. Implementing Naive Bayes Test function: (10 points)\n",
    "\n",
    "In this function, implement the previous functions such as naive_bayes_predict to get the predictions for the test set. \n",
    "\n",
    "In addition to this, the function should return the total number of reviews that it correctly classified as 'positive' or 'negative'. "
   ]
  },
  {
   "cell_type": "code",
   "execution_count": 47,
   "id": "66a511e7",
   "metadata": {
    "id": "66a511e7"
   },
   "outputs": [],
   "source": [
    "# UNQ_C6 (UNIQUE CELL IDENTIFIER, DO NOT EDIT)\n",
    "def test_naive_bayes(test_x, test_y, logprior, loglikelihood):\n",
    "    \"\"\"\n",
    "    Input:\n",
    "        test_x: A list of reviews\n",
    "        test_y: the corresponding labels for the list of reviews\n",
    "        logprior: the logprior\n",
    "        loglikelihood: a dictionary with the loglikelihoods for each word\n",
    "    Output:\n",
    "        accuracy: (# of reviews classified correctly)/(total # of reviews)\n",
    "    \"\"\"\n",
    "    accuracy = 0  \n",
    "    total_reviews = test_x.shape[0]\n",
    "    \n",
    "    y_pred = []\n",
    "    y_pred_i = 0\n",
    "    for review in test_x:\n",
    "        # if the prediction is > 0\n",
    "        if naive_bayes_predict(review, logprior, loglikelihood):\n",
    "            # the predicted class is 1\n",
    "            y_pred_i = 1\n",
    "        else:\n",
    "            # otherwise the predicted class is 0\n",
    "            y_pred_i = 0\n",
    "\n",
    "        # append the predicted class to the list y_hats\n",
    "        y_pred.append(y_pred_i)\n",
    "\n",
    "    # error is the average of the absolute values of the differences between y_hats and test_y\n",
    "    error = 0\n",
    "\n",
    "    for i in range(total_reviews):\n",
    "        if y_pred[i] != test_y.iloc[i]:\n",
    "            error += 1\n",
    "\n",
    "    accuracy = ( total_reviews - error ) / total_reviews\n",
    "\n",
    "    return accuracy, y_pred"
   ]
  },
  {
   "cell_type": "code",
   "execution_count": 29,
   "id": "8a9c5d9d",
   "metadata": {
    "id": "8a9c5d9d"
   },
   "outputs": [
    {
     "name": "stdout",
     "output_type": "stream",
     "text": [
      "If you like original gut wrenching laughter you will like this movie. If you are young or old then y -> 0.00\n",
      "What a waste of talent. A very poor, semi-coherent, script cripples this film. Rather unimaginative  -> 1.00\n",
      "I have seen this film at least 100 times and I am still excited by it, the acting is perfect and the -> 0.00\n",
      "Cheap, amateurish, unimaginative, exploitative... but don't think it'll have redeeming amusement val -> 1.00\n"
     ]
    }
   ],
   "source": [
    "# For grading purpose only\n",
    "# You do not have to input any code in this cell, but it is relevant to grading, so please do not change anything\n",
    "\n",
    "# Run this cell to test your function\n",
    "\n",
    "for review in [\"If you like original gut wrenching laughter you will like this movie. If you are young or old then you will love this movie, hell even my mom liked it.<br /><br />Great Camp!!!\",\n",
    "                \"What a waste of talent. A very poor, semi-coherent, script cripples this film. Rather unimaginative direction, too. Some VERY faint echoes of Fargo here, but it just doesn't come off.\",\n",
    "                \"I have seen this film at least 100 times and I am still excited by it, the acting is perfect and the romance between Joe and Jean keeps me on the edge of my seat, plus I still think Bryan Brown is the tops. Brilliant Film.\",\n",
    "                \"Cheap, amateurish, unimaginative, exploitative... but don't think it'll have redeeming amusement value. About as unentertaining, uninstructive and just plain dull as a film can be.\"]:\n",
    "    p = naive_bayes_predict(review, logprior, loglikelihood)\n",
    "    print(f'{review[:100]} -> {p:.2f}')\n",
    "    "
   ]
  },
  {
   "cell_type": "markdown",
   "id": "43e2ef98",
   "metadata": {
    "id": "43e2ef98"
   },
   "source": [
    "### Expected Output :\n",
    "\n",
    "If you like original gut wrenching laughter you will like this movie. If you are young or old then y -> 0.00 <br>\n",
    "What a waste of talent. A very poor, semi-coherent, script cripples this film. Rather unimaginative  -> 1.00<br>\n",
    "I have seen this film at least 100 times and I am still excited by it, the acting is perfect and the -> 0.00 <br>\n",
    "Cheap, amateurish, unimaginative, exploitative... but don't think it'll have redeeming amusement val -> 1.00\n",
    "\n"
   ]
  },
  {
   "cell_type": "code",
   "execution_count": 30,
   "id": "216fa97a",
   "metadata": {
    "colab": {
     "base_uri": "https://localhost:8080/"
    },
    "id": "216fa97a",
    "outputId": "9d1f21c7-b324-43c2-e841-269c0306cbb4"
   },
   "outputs": [
    {
     "data": {
      "text/plain": [
       "1"
      ]
     },
     "execution_count": 30,
     "metadata": {},
     "output_type": "execute_result"
    }
   ],
   "source": [
    "# Feel free to check the sentiment of your own review below\n",
    "my_review = 'The moview was very boring, I wanted to leave in the middle'\n",
    "naive_bayes_predict(my_review, logprior, loglikelihood)"
   ]
  },
  {
   "cell_type": "markdown",
   "id": "8a45e4f0",
   "metadata": {
    "id": "8a45e4f0"
   },
   "source": [
    "### Expected Output :\n",
    "1"
   ]
  },
  {
   "cell_type": "markdown",
   "id": "mAIkM4aCC1H7",
   "metadata": {
    "id": "mAIkM4aCC1H7"
   },
   "source": [
    "# Q7. Evaluate the accuracy (10 Points)\n",
    "1. Split your data into training and test sets using random selection. Set the seed as parameter of the function so that user can select a different training and test set by changin seed.\n",
    "\n",
    "2. Calculate model paramters with training set.\n",
    "\n",
    "3. Print confusion matrix for training and test set.\n",
    "\n",
    "4. Examine False Positive and False Negative cases and provide reasoning why they get misclassified."
   ]
  },
  {
   "cell_type": "code",
   "execution_count": 35,
   "id": "33d271b6",
   "metadata": {},
   "outputs": [],
   "source": [
    "df_sampled = df_upsampled.sample(frac=1, random_state=0)\n",
    "## Considering 10000 positive and 10000 negative data points\n",
    "negative_data_points_train = df_upsampled[df_upsampled.sentiment == 'negative'].iloc[:10000]\n",
    "positive_data_points_train = df_upsampled[df_upsampled.sentiment == 'positive'].iloc[:10000]\n",
    "\n",
    "## Considering the remaining data points for test\n",
    "negative_data_points_test = df_upsampled[df_upsampled.sentiment == 'negative'].iloc[10000:]\n",
    "positive_data_points_test = df_upsampled[df_upsampled.sentiment == 'positive'].iloc[10000:]\n",
    "\n",
    "## Concatenate the training positive and negative reviews\n",
    "X_train = pd.concat([negative_data_points_train[\"review\"], positive_data_points_train[\"review\"]])\n",
    "## Concatenating the training positive and negative outputs\n",
    "y_train = pd.concat([negative_data_points_train[\"sentiment\"], positive_data_points_train[\"sentiment\"]])\n",
    "\n",
    "## Concatenating the test positive and negative reviews\n",
    "X_test = pd.concat([negative_data_points_test[\"review\"], positive_data_points_test[\"review\"]])\n",
    "## Concatenating the test positive and negative outputs\n",
    "y_test = pd.concat([negative_data_points_test[\"sentiment\"], positive_data_points_test[\"sentiment\"]])\n",
    "\n",
    "output_map = {'positive': 0, 'negative': 1}\n",
    "y_train = y_train.map(output_map)\n",
    "y_test = y_test.map(output_map)\n",
    "freqs = review_counter({}, X_train, y_train)\n",
    "logprior, loglikelihood = train_naive_bayes(freqs, X_train, y_train)\n",
    "\n"
   ]
  },
  {
   "cell_type": "code",
   "execution_count": 48,
   "id": "7d3e2178",
   "metadata": {},
   "outputs": [
    {
     "name": "stdout",
     "output_type": "stream",
     "text": [
      "Train Accuracy: 0.9819\n",
      "Test Accuracy: 0.8516572352465642\n",
      "[[9772  228]\n",
      " [ 134 9866]]\n",
      "[[2132  342]\n",
      " [ 392 2082]]\n"
     ]
    }
   ],
   "source": [
    "accuracy_train, y_pred_train = test_naive_bayes(X_train, y_train, logprior, loglikelihood)\n",
    "print(\"Train Accuracy: \" + str(accuracy_train))\n",
    "accuracy_test, y_pred_test = test_naive_bayes(X_test, y_test, logprior, loglikelihood)\n",
    "print(\"Test Accuracy: \" + str(accuracy_test))\n",
    "\n",
    "from sklearn.metrics import ConfusionMatrixDisplay\n",
    "from sklearn.metrics import confusion_matrix\n",
    "matrix_train = confusion_matrix(y_train, y_pred_train)\n",
    "print(matrix_train)\n",
    "matrix_test = confusion_matrix(y_test, y_pred_test)\n",
    "print(matrix_test)\n",
    "\n",
    "\n",
    "#4. Examine False Positive and False Negative cases and provide reasoning why they get misclassified.\n",
    "# Due to sample data some words have multiple meaning and in the training data these words have \n",
    "# high probability of negative "
   ]
  },
  {
   "cell_type": "markdown",
   "id": "XbzttYVnBo7W",
   "metadata": {
    "id": "XbzttYVnBo7W"
   },
   "source": [
    "# Q8. Modularize your calssifier (10 points)\n",
    "1. Convert your code into a python module text_classifier.py\n",
    "\n",
    "2. The user should be able to launch the application on command prompt using python test_classifier.py command. The module will automatically load the model paramters from a local file of your choice and be ready to take the input from user on command prompt. The program will preprocess user input, tokenize and predict the class.\n",
    "\n",
    "3. Your module will take the input from user and output sentiment class in an indefinite loop. The output should printout the probabilities for each input token along with the final classification decision. Program will quit if user enters X.\n"
   ]
  },
  {
   "cell_type": "markdown",
   "id": "82e6e4d1",
   "metadata": {
    "id": "82e6e4d1"
   },
   "source": [
    "# Q9. Theory Questions: (10 points)\n",
    "\n",
    "1. Why is Laplace Smoothing or Additive Smoothing required while executing Naive Bayes operations, especially for text classification? Show how not having additive smoothing leads to bad outcomes by using an example of training and the test set. (10 points)\n",
    "\n",
    "\n",
    "2. Why are logarithmic values computed instead of only probability values in the Naive Bayes algorithm? (5 points)"
   ]
  },
  {
   "cell_type": "markdown",
   "id": "9b8ad904",
   "metadata": {},
   "source": [
    "1. Why is Laplace Smoothing or Additive Smoothing required while executing Naive Bayes operations, especially for text classification? Show how not having additive smoothing leads to bad outcomes by using an example of training and the test set. (10 points)\n",
    "Answer: While working on a classification problem (Natural Language Processing) such as positive negative reviews here, Naive Bayes algorithm gives suspicious predictions sometimes.The cause of such a problem is a zero probability problem for the test data. Therefore, the most reliable solution is to overcome this problem is Laplace smoothing which is a smoothing technique that helps tackle the problem of zero probability in the Naïve Bayes machine learning algorithm. Here, in out dataset, given reviews (text) has to be classified to be either positive or negative. We build a likelihood table using the present training set. However, when likelihood values are used for predicting the test dataset some words occur only in the test dataset but not in the training set.\n",
    "\n",
    "Let us take one simple test review for example;\n",
    "\n",
    "review= \"w1w2w\"\n",
    "\n",
    "This sample have three words, where we assume w1 and w2 are present in the training data but not w. Therefore, we have the likelihood for these two words. Now, for predicting whether the review is positive or negative, we compare P(positive/review) and P(negative/review) and choose the maximum probability out of the two to our prediction for review.\n",
    "\n",
    "We use the Bayes theorem to calculate these probabilities. While calculating these probabilities, we don’t involve the evidence for our calculations since evidence remains constant for all the classes. So, now probability equation becomes,\n",
    "\n",
    "P(positive/review) = KP(w1/positive)P(w2/positive)P(w/positive)P(positive)\n",
    "\n",
    "Similarly,\n",
    "\n",
    "P(negative/review) = KP(w1/negative)P(w2/negative)P(w/negative)P(negative)\n",
    "\n",
    "Here k is the proportionality constant.\n",
    "\n",
    "In the likelihood table, the value of P(w1/positive), P(w2/positive) and P(positive) are present but P(w/positive) is not present since w is not present in our training data. As we have no value for this probability. Now, we are unable to be sure about the prediction and our model performed poorly.\n",
    "\n",
    "2. Why are logarithmic values computed instead of only probability values in the Naive Bayes algorithm? (5 points)\n",
    "Answer : Logarithmic values are computed instead of only probaility values in the Naive Bayes algorithm is because of log increases or decreases monotonically which means that it will not affect the order of probabilities. Smaller probabilities will still stay smaller after the log has been applied to them and vice versa. Therefore, let’s say that a test word \"is\" has a smaller probability than the test word \"happy\", so after passing these through log would although increase their magnitude but \"is\" would still have a smaller probability than \"happy\". Thus, without affecting the predictions of our trained model, we can effectively avoid the common pitfall of underflow error."
   ]
  }
 ],
 "metadata": {
  "colab": {
   "collapsed_sections": [],
   "name": "CS6120_NLP_Assignment_1_Notebook.ipynb",
   "provenance": [],
   "toc_visible": true
  },
  "kernelspec": {
   "display_name": "Python 3 (ipykernel)",
   "language": "python",
   "name": "python3"
  },
  "language_info": {
   "codemirror_mode": {
    "name": "ipython",
    "version": 3
   },
   "file_extension": ".py",
   "mimetype": "text/x-python",
   "name": "python",
   "nbconvert_exporter": "python",
   "pygments_lexer": "ipython3",
   "version": "3.9.7"
  }
 },
 "nbformat": 4,
 "nbformat_minor": 5
}
